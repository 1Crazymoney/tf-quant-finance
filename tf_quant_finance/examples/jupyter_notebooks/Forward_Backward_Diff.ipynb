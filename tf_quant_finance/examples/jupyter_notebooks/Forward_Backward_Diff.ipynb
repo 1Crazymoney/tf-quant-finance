{
 "cells": [
  {
   "cell_type": "markdown",
   "metadata": {},
   "source": [
    "# Forward and Reverse mode gradients in TFF"
   ]
  },
    {
      "cell_type": "code",
      "metadata": {
        "colab_type": "code",
        "id": "YCriMWd-pRTP",
        "colab": {}
      },
      "source": [
        "#@title Licensed under the Apache License, Version 2.0 (the \"License\"); { display-mode: \"form\" }\n",
        "# you may not use this file except in compliance with the License.\n",
        "# You may obtain a copy of the License at\n",
        "#\n",
        "# https://www.apache.org/licenses/LICENSE-2.0\n",
        "#\n",
        "# Unless required by applicable law or agreed to in writing, software\n",
        "# distributed under the License is distributed on an \"AS IS\" BASIS,\n",
        "# WITHOUT WARRANTIES OR CONDITIONS OF ANY KIND, either express or implied.\n",
        "# See the License for the specific language governing permissions and\n",
        "# limitations under the License."
      ],
      "execution_count": 0,
      "outputs": []
    },
  {
   "cell_type": "code",
   "execution_count": 10,
   "metadata": {},
   "outputs": [],
   "source": [
    "import tensorflow as tf\n",
    "import functools\n",
    "import tf_quant_finance.math.gradient as tff_gradient\n",
    "import tf_quant_finance.math.optimizer as tff_optimizer\n",
    "import numpy as np"
   ]
  },
  {
   "cell_type": "markdown",
   "metadata": {},
   "source": [
    "Consider a simple function in two variables $x$ and $y$ but in three dimensions such that the function along each axes is [$x^2$, $y^2$, $x y$]"
   ]
  },
  {
   "cell_type": "markdown",
   "metadata": {},
   "source": [
    "$\n",
    "\\begin{align}\n",
    "& f = [f_1, f_2, f_3] \\\\\n",
    "& where \\\\\n",
    "\\end{align}\n",
    "$\n",
    "\n",
    "$\n",
    "\\begin{align}\n",
    "f_1 &= x^2 \\\\\n",
    "f_2 &= y^2 \\\\\n",
    "f_3 &= x + y \\\\\n",
    "\\end{align}\n",
    "$"
   ]
  },
  {
   "cell_type": "code",
   "execution_count": 18,
   "metadata": {},
   "outputs": [],
   "source": [
    "def func_grad(x):\n",
    "    func = tf.stack([x[0]**2, x[1]**2, x[0]*x[1]])\n",
    "    grad = tf.stack([2.0*x[0]+x[1], 2.0*x[1]+x[0]])\n",
    "    return func, grad\n",
    "\n",
    "def func(x):\n",
    "    func = tf.stack([x[0]**2, x[1]**2, x[0]*x[1]])\n",
    "    return func\n",
    "\n",
    "start = tf.constant([1,1], dtype=tf.float64)\n"
   ]
  },
  {
   "cell_type": "markdown",
   "metadata": {},
   "source": [
    "# Reverse mode"
   ]
  },
  {
   "cell_type": "markdown",
   "metadata": {},
   "source": [
    "$\n",
    "\\begin{align}\n",
    "\\frac {\\partial f}{\\partial x} &= u_1 \\frac{\\partial f_1}{\\partial x} + u_2 \\frac{\\partial f_2}{\\partial x} + u_3 \\frac{\\partial f_3}{\\partial x} \\\\ \\\\\n",
    "&= u_1 2 x + u_3 y\\\\ \\\\\n",
    "\\frac {\\partial f}{\\partial y} &= u_1 \\frac{\\partial f_1}{\\partial y} + u_2 \\frac{\\partial f_2}{\\partial y} + u_3 \\frac{\\partial f_3}{\\partial y} \\\\ \\\\\n",
    "&= u_1 2 y + u_3 x\n",
    "\\end{align}\n",
    "$"
   ]
  },
  {
   "cell_type": "markdown",
   "metadata": {},
   "source": [
    "In Tensorflow, [$u_1$, $u_2$, $u_3$] is normally set to [1, 1, 1]\n",
    "\n",
    "Setting [$x$, $y$] to [1,1]\n",
    "\n",
    "Reverse mode returns the gradients summed up by components"
   ]
  },
  {
   "cell_type": "code",
   "execution_count": 25,
   "metadata": {},
   "outputs": [
    {
     "data": {
      "text/plain": [
       "<tf.Tensor: shape=(2,), dtype=float64, numpy=array([3., 3.])>"
      ]
     },
     "execution_count": 25,
     "metadata": {},
     "output_type": "execute_result"
    }
   ],
   "source": [
    "func_grad(start)[1]"
   ]
  },
  {
   "cell_type": "markdown",
   "metadata": {},
   "source": [
    "# Forward mode"
   ]
  },
  {
   "cell_type": "markdown",
   "metadata": {},
   "source": [
    "$\n",
    "\\begin{align}\n",
    "{\\partial f_1} &= w_1 \\frac{\\partial f_1}{\\partial x} + w_2 \\frac{\\partial f_1}{\\partial y} \\\\ \\\\\n",
    "&= w_1 2 x \\\\ \\\\\n",
    "{\\partial f_2} &= w_1 \\frac{\\partial f_2}{\\partial x} + w_2 \\frac{\\partial f_2}{\\partial y} \\\\ \\\\\n",
    "&= w_2 2 y \\\\ \\\\\n",
    "{\\partial f_3} &= w_1 \\frac{\\partial f_3}{\\partial x} + w_2 \\frac{\\partial f_3}{\\partial y} \\\\ \\\\\n",
    "&= w_1 x + w_2 y \\\\ \\\\\n",
    "\\end{align}\n",
    "$"
   ]
  },
  {
   "cell_type": "markdown",
   "metadata": {},
   "source": [
    "In Tensorflow, [$w_1$, $w_2$] is normally set to [1, 1]\n",
    "\n",
    "Setting [$x$, $y$] to [1,1]\n",
    "\n",
    "Forward mode returns the gradients by components"
   ]
  },
  {
   "cell_type": "code",
   "execution_count": 26,
   "metadata": {},
   "outputs": [
    {
     "data": {
      "text/plain": [
       "<tf.Tensor: shape=(3,), dtype=float64, numpy=array([2., 2., 2.])>"
      ]
     },
     "execution_count": 26,
     "metadata": {},
     "output_type": "execute_result"
    }
   ],
   "source": [
    "tff_gradient.fwd_gradient(func, start)"
   ]
  },
  {
   "cell_type": "code",
   "execution_count": null,
   "metadata": {},
   "outputs": [],
   "source": []
  }
 ],
 "metadata": {
  "kernelspec": {
   "display_name": "quantlibenv",
   "language": "python",
   "name": "quantlibenv"
  },
  "language_info": {
   "codemirror_mode": {
    "name": "ipython",
    "version": 3
   },
   "file_extension": ".py",
   "mimetype": "text/x-python",
   "name": "python",
   "nbconvert_exporter": "python",
   "pygments_lexer": "ipython3",
   "version": "3.7.3"
  }
 },
 "nbformat": 4,
 "nbformat_minor": 2
}
