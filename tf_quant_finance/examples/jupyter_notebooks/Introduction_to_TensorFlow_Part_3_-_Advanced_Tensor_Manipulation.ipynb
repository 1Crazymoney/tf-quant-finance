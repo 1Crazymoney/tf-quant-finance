{
  "cells": [
    {
      "cell_type": "markdown",
      "metadata": {
        "id": "EheA5_j_cEwc"
      },
      "source": [
        "##### Copyright 2019 Google LLC.\n",
        "\n",
        "Licensed under the Apache License, Version 2.0 (the \"License\");"
      ]
    },
    {
      "cell_type": "code",
      "execution_count": null,
      "metadata": {
        "id": "YCriMWd-pRTP"
      },
      "outputs": [],
      "source": [
        "#@title Licensed under the Apache License, Version 2.0 (the \"License\"); { display-mode: \"form\" }\n",
        "# you may not use this file except in compliance with the License.\n",
        "# You may obtain a copy of the License at\n",
        "#\n",
        "# https://www.apache.org/licenses/LICENSE-2.0\n",
        "#\n",
        "# Unless required by applicable law or agreed to in writing, software\n",
        "# distributed under the License is distributed on an \"AS IS\" BASIS,\n",
        "# WITHOUT WARRANTIES OR CONDITIONS OF ANY KIND, either express or implied.\n",
        "# See the License for the specific language governing permissions and\n",
        "# limitations under the License."
      ]
    },
    {
      "cell_type": "markdown",
      "metadata": {
        "id": "OvRwFTkqcp1e"
      },
      "source": [
        "# Introduction to TensorFlow Part 3 - Advanced Tensor Manipulation\n",
        "\n",
        "\u003ctable class=\"tfo-notebook-buttons\" align=\"left\"\u003e\n",
        "  \u003ctd\u003e\n",
        "    \u003ca target=\"_blank\" href=\"https://colab.research.google.com/github/google/tf-quant-finance/blob/master/tf_quant_finance/examples/jupyter_notebooks/Introduction_to_TensorFlow.ipynb\"\u003e\u003cimg src=\"https://www.tensorflow.org/images/colab_logo_32px.png\" /\u003eRun in Google Colab\u003c/a\u003e\n",
        "  \u003c/td\u003e\n",
        "  \u003ctd\u003e\n",
        "    \u003ca target=\"_blank\" href=\"https://github.com/google/tf-quant-finance/blob/master/tf_quant_finance/examples/jupyter_notebooks/Introduction_to_TensorFlow.ipynb\"\u003e\u003cimg src=\"https://www.tensorflow.org/images/GitHub-Mark-32px.png\" /\u003eView source on GitHub\u003c/a\u003e\n",
        "  \u003c/td\u003e\n",
        "\u003c/table\u003e"
      ]
    },
    {
      "cell_type": "code",
      "execution_count": null,
      "metadata": {
        "cellView": "form",
        "id": "97ZM2JhA23pR"
      },
      "outputs": [],
      "source": [
        "#@title Upgrade to TensorFlow 2.1+\r\n",
        "!pip install --upgrade tensorflow"
      ]
    },
    {
      "cell_type": "code",
      "execution_count": 1,
      "metadata": {
        "cellView": "form",
        "executionInfo": {
          "elapsed": 6084,
          "status": "ok",
          "timestamp": 1614182613579,
          "user": {
            "displayName": "",
            "photoUrl": "",
            "userId": ""
          },
          "user_tz": 0
        },
        "id": "nPX9m7Q_w_8p"
      },
      "outputs": [],
      "source": [
        "#@title Install and import Libraries for this colab. RUN ME FIRST!\n",
        "#!pip install matplotlib\n",
        "import matplotlib.pyplot as plt\n",
        "import tensorflow as tf\n",
        "\n"
      ]
    },
    {
      "cell_type": "markdown",
      "metadata": {
        "id": "obZHjPQScSqd"
      },
      "source": [
        "# What this notebook covers\n",
        "\n",
        "This notebook carries on from [part 2](https://colab.research.google.com/github/google/tf-quant-finance/blob/master/tf_quant_finance/examples/jupyter_notebooks/Introduction_to_TensorFlow_Part_2_-_Debugging_and_Control_Flow.ipynb\n",
        "), and covers various advanced ways of manipulating tensors, including\n",
        "*   Scatter/Gather\n",
        "*   Sparse Tensors\n",
        "*   Various functional ops\n",
        "\n",
        "\n",
        "\n"
      ]
    },
    {
      "cell_type": "markdown",
      "metadata": {
        "id": "pVLqCYzuDhfT"
      },
      "source": [
        "# Scatter / Gather"
      ]
    },
    {
      "cell_type": "markdown",
      "metadata": {
        "id": "_md9nF-EbCcn"
      },
      "source": [
        "## tf.gather_nd\n",
        "\n",
        "[Full documentation](https://www.tensorflow.org/api_docs/python/tf/gather_nd)\n",
        "\n",
        "This operation allows you to take a multi-dimensional tensor and extract a list of subsets of data from it, according to a list of indices."
      ]
    },
    {
      "cell_type": "code",
      "execution_count": 2,
      "metadata": {
        "executionInfo": {
          "elapsed": 579,
          "status": "ok",
          "timestamp": 1614182672378,
          "user": {
            "displayName": "",
            "photoUrl": "",
            "userId": ""
          },
          "user_tz": 0
        },
        "id": "z7nnDntT32V0",
        "outputId": "1e7c8c1f-c115-4133-be8e-37f6c7fd6f86"
      },
      "outputs": [
        {
          "name": "stdout",
          "output_type": "stream",
          "text": [
            "Looking up [[1, 1, 1]] gives us\n",
            "tf.Tensor([222], shape=(1,), dtype=int32)\n",
            "\n",
            "Looking up [[1, 1, 1], [0, 0, 0], [0, 0, 1]] gives us\n",
            "tf.Tensor([222 111 112], shape=(3,), dtype=int32)\n",
            "\n",
            "Looking up [[0, 0]] gives us\n",
            "tf.Tensor([[111 112 113]], shape=(1, 3), dtype=int32)\n",
            "\n",
            "Looking up [[1]] gives us\n",
            "tf.Tensor(\n",
            "[[[211 212 213]\n",
            "  [221 222 223]\n",
            "  [231 232 233]]], shape=(1, 3, 3), dtype=int32)\n"
          ]
        }
      ],
      "source": [
        "source = tf.constant([[[111,112,113], [121,122,123], [131,132,133]], \n",
        "                      [[211,212,213], [221,222,223], [231,232,233]]])\n",
        "\n",
        "# if we specify all values for all of source's dimensions, then we get a \n",
        "# single value\n",
        "indices = [[1,1,1]]\n",
        "print(\"Looking up %s gives us\\n%s\" %(\n",
        "    indices, tf.gather_nd(source, indices)))\n",
        "\n",
        "# we can look up multiple sets of indices\n",
        "indices = [[1,1,1], [0,0,0], [0,0,1]]\n",
        "print(\"\\nLooking up %s gives us\\n%s\" %(\n",
        "    indices, tf.gather_nd(source, indices)))\n",
        "\n",
        "# if we don't specify values for all of source's dimensions, then we get \n",
        "# results of larger shape\n",
        "indices = [[0,0]]\n",
        "print(\"\\nLooking up %s gives us\\n%s\" %(\n",
        "    indices, tf.gather_nd(source, indices)))  \n",
        "indices = [[1]]\n",
        "print(\"\\nLooking up %s gives us\\n%s\" %(\n",
        "    indices, tf.gather_nd(source, indices)))    "
      ]
    },
    {
      "cell_type": "markdown",
      "metadata": {
        "id": "9B9cza9zD4Iw"
      },
      "source": [
        "The indices can easily be generated with tf.where:"
      ]
    },
    {
      "cell_type": "code",
      "execution_count": 3,
      "metadata": {
        "executionInfo": {
          "elapsed": 126,
          "status": "ok",
          "timestamp": 1614182700243,
          "user": {
            "displayName": "",
            "photoUrl": "",
            "userId": ""
          },
          "user_tz": 0
        },
        "id": "npOjtvGYECW1",
        "outputId": "030f4d42-8829-4cf5-b6ce-f028f88612d0"
      },
      "outputs": [
        {
          "name": "stdout",
          "output_type": "stream",
          "text": [
            "tf.Tensor([111 123 132 213 222 231], shape=(6,), dtype=int32)\n"
          ]
        }
      ],
      "source": [
        "source = tf.constant([[[111,112,113], [121,122,123], [131,132,133]], \n",
        "                      [[211,212,213], [221,222,223], [231,232,233]]])\n",
        "values_divisible_by_three = tf.gather_nd(\n",
        "    source, tf.where(tf.equal(0, source % 3)))\n",
        "\n",
        "print(values_divisible_by_three)"
      ]
    },
    {
      "cell_type": "markdown",
      "metadata": {
        "id": "EfNajZEZG3sd"
      },
      "source": [
        "##tf.scatter_nd\n",
        "\n",
        "[Full documentation](https://www.tensorflow.org/api_docs/python/tf/scatter_nd)\n",
        "\n",
        "`scatter_nd` creates a zero-initialised tensor of a given shape, and then writes a series of specified values at specified positions in that tensor.\n",
        "\n"
      ]
    },
    {
      "cell_type": "code",
      "execution_count": 15,
      "metadata": {
        "executionInfo": {
          "elapsed": 219,
          "status": "ok",
          "timestamp": 1614182958527,
          "user": {
            "displayName": "",
            "photoUrl": "",
            "userId": ""
          },
          "user_tz": 0
        },
        "id": "9dKH_Fg4H4R4",
        "outputId": "6d42f2a6-945c-45c4-c254-d9d6a1ee3513"
      },
      "outputs": [
        {
          "name": "stdout",
          "output_type": "stream",
          "text": [
            "Scattering single value:\n",
            "tf.Tensor(\n",
            "[[[0 0 0]\n",
            "  [0 0 1]\n",
            "  [0 0 0]]\n",
            "\n",
            " [[0 0 0]\n",
            "  [0 0 0]\n",
            "  [0 0 0]]], shape=(2, 3, 3), dtype=int32)\n",
            "\n",
            "Scattering multiple values:\n",
            "tf.Tensor(\n",
            "[[[1 0 0]\n",
            "  [0 2 0]\n",
            "  [0 0 3]]\n",
            "\n",
            " [[0 0 0]\n",
            "  [0 0 0]\n",
            "  [0 0 0]]], shape=(2, 3, 3), dtype=int32)\n",
            "\n",
            "Scattering entire rows:\n",
            "tf.Tensor(\n",
            "[[[1 2 3]\n",
            "  [4 5 6]\n",
            "  [0 0 0]]\n",
            "\n",
            " [[0 0 0]\n",
            "  [0 0 0]\n",
            "  [0 0 0]]], shape=(2, 3, 3), dtype=int32)\n",
            "\n",
            "Scattering entire matrix:\n",
            "tf.Tensor(\n",
            "[[[1 2 3]\n",
            "  [4 5 6]\n",
            "  [7 8 9]]\n",
            "\n",
            " [[0 0 0]\n",
            "  [0 0 0]\n",
            "  [0 0 0]]], shape=(2, 3, 3), dtype=int32)\n",
            "\n",
            "Scattering single value multiple times:\n",
            "tf.Tensor(\n",
            "[[[6 0 0]\n",
            "  [0 0 0]\n",
            "  [0 0 0]]\n",
            "\n",
            " [[0 0 0]\n",
            "  [0 0 0]\n",
            "  [0 0 0]]], shape=(2, 3, 3), dtype=int32)\n"
          ]
        }
      ],
      "source": [
        "print(\"Scattering single value:\\n%s\"%\n",
        "      tf.scatter_nd(indices = [[0,1,2]],\n",
        "                    updates = [1], \n",
        "                    shape = [2,3,3]))\n",
        "\n",
        "print(\"\\nScattering multiple values:\\n%s\"\n",
        "      %tf.scatter_nd(indices = [[0,0,0], [0,1,1], [0,2,2]], \n",
        "                     updates = [1,2,3], \n",
        "                     shape = [2,3,3]))\n",
        "\n",
        "# You can reduce the dimensions of indices and increase the dimensions of \n",
        "# updates\n",
        "print(\"\\nScattering entire rows:\\n%s\"%\n",
        "      tf.scatter_nd(indices = [[0,0], [0,1]], \n",
        "                    updates = [[1,2,3], [4,5,6]], \n",
        "                    shape = [2,3,3]))\n",
        "\n",
        "print(\"\\nScattering entire matrix:\\n%s\"%\n",
        "      tf.scatter_nd(\n",
        "        indices = [[0]], \n",
        "        updates = [[[1,2,3], [4,5,6], [7,8,9]]], \n",
        "        shape = [2,3,3]))\n",
        "\n",
        "# Note that if `indices` contains duplicate or overlapping values, then the \n",
        "# clashing updates will be added together (in an indeterminate order, which \n",
        "# may result in non-deterministic output in the case of multiple floating \n",
        "# point values of wildly different sizes).\n",
        "print(\"\\nScattering single value multiple times:\\n%s\"%\n",
        "      tf.scatter_nd(indices = [[0,0,0], [0,0,0], [0,0,0]], \n",
        "                    updates = [1,2,3], \n",
        "                    shape = [2,3,3]))\n",
        "\n"
      ]
    },
    {
      "cell_type": "markdown",
      "metadata": {
        "id": "kYiOe3ZsT05b"
      },
      "source": [
        "### Gather then Scatter\n",
        "In some cases, you will want `scatter_nd` to act as a \"setter\" to `gather_nd`'s \"getter\": i.e. you have a tensor, you extract a subset of values that meet a certain criteria using `gather_nd`, you calculate new values for that subset, and then create a new tensor based on the original that replaces the elements that met the criteria with the new values.\n",
        "\n",
        "There are two approaches you can take here, the first is to use `where`:"
      ]
    },
    {
      "cell_type": "code",
      "execution_count": 17,
      "metadata": {
        "executionInfo": {
          "elapsed": 630,
          "status": "ok",
          "timestamp": 1614183216172,
          "user": {
            "displayName": "",
            "photoUrl": "",
            "userId": ""
          },
          "user_tz": 0
        },
        "id": "gbpQx-xrU707",
        "outputId": "784b9df9-bc77-4387-dfc6-ed5ce75c3eb8"
      },
      "outputs": [
        {
          "name": "stdout",
          "output_type": "stream",
          "text": [
            "tf.Tensor(\n",
            "[[[ 11 112 113]\n",
            "  [121 122  23]\n",
            "  [131  32 133]]\n",
            "\n",
            " [[211 212  13]\n",
            "  [221  22 223]\n",
            "  [ 31 232 233]]], shape=(2, 3, 3), dtype=int32)\n"
          ]
        }
      ],
      "source": [
        "source = tf.constant([[[111,112,113], [121,122,123], [131,132,133]], \n",
        "                      [[211,212,213], [221,222,223], [231,232,233]]])\n",
        "# create a boolean tensor the same shape as source\n",
        "is_divisible_by_three = tf.equal(0, source % 3)\n",
        "# create a list of indices where is_divisible_by_three is true\n",
        "indices = tf.where(is_divisible_by_three)\n",
        "# extract a list of values that need updating\n",
        "values_divisible_by_three = tf.gather_nd(source, indices)\n",
        "# perform a really expensive operation on those values\n",
        "new_values = values_divisible_by_three % 100\n",
        "# convert the list of new values back into a tensor the same shape as source\n",
        "# we need to force the type of shape to match that of indices\n",
        "shape = tf.shape(source, out_type=tf.dtypes.int64)\n",
        "new_values_or_zeros = tf.scatter_nd(indices, new_values, shape)\n",
        "# merge the new values into the original\n",
        "new_tensor = tf.where(is_divisible_by_three, new_values_or_zeros, source)\n",
        "\n",
        "print(new_tensor)\n"
      ]
    },
    {
      "cell_type": "markdown",
      "metadata": {
        "id": "OIMX9Vf-Zmdf"
      },
      "source": [
        "The second approach is to subtract the original value from the updated value, and then you can just add the two tensors."
      ]
    },
    {
      "cell_type": "code",
      "execution_count": 19,
      "metadata": {
        "executionInfo": {
          "elapsed": 231,
          "status": "ok",
          "timestamp": 1614183256382,
          "user": {
            "displayName": "",
            "photoUrl": "",
            "userId": ""
          },
          "user_tz": 0
        },
        "id": "tMwh5kgAZ0aI",
        "outputId": "e6f03d44-b2c3-4b2a-bf59-6b83e52bc5e8"
      },
      "outputs": [
        {
          "name": "stdout",
          "output_type": "stream",
          "text": [
            "tf.Tensor(\n",
            "[[[ 11 112 113]\n",
            "  [121 122  23]\n",
            "  [131  32 133]]\n",
            "\n",
            " [[211 212  13]\n",
            "  [221  22 223]\n",
            "  [ 31 232 233]]], shape=(2, 3, 3), dtype=int32)\n"
          ]
        }
      ],
      "source": [
        "source = tf.constant([[[111,112,113], [121,122,123], [131,132,133]], \n",
        "                      [[211,212,213], [221,222,223], [231,232,233]]])\n",
        "# create a list of indices where is_divisible_by_three is true (we no longer \n",
        "# need the to keep a reference to the result of tf.equal)\n",
        "indices = tf.where(tf.equal(0, source % 3))\n",
        "# extract a list of values that need updating\n",
        "values_divisible_by_three = tf.gather_nd(source, indices)\n",
        "# perform a really expensive operation on those values to get the value we want\n",
        "new_values = values_divisible_by_three % 100\n",
        "new_values_minus_original = new_values - values_divisible_by_three\n",
        "# convert the list of new values back into a tensor the same shape as source\n",
        "# we need to force the type of shape to match that of indices\n",
        "shape = tf.shape(source, out_type=tf.dtypes.int64)\n",
        "new_values_or_zeros = tf.scatter_nd(indices, new_values_minus_original, shape)\n",
        "# now add the two tensors. For values that didn't meet the criteria this just \n",
        "# add 0 to the original value. For the values that did meet the criteria this \n",
        "# will add original_value + (value_we_want - original value)\n",
        "new_tensor = new_values_or_zeros + source\n",
        "\n",
        "print(new_tensor)\n"
      ]
    },
    {
      "cell_type": "markdown",
      "metadata": {
        "id": "W6-o_3hTeCb1"
      },
      "source": [
        "The addition approach is fractionally more efficient, and doesn't require the boolean tensor, but can hit accuracy problems in floating point."
      ]
    },
    {
      "cell_type": "markdown",
      "metadata": {
        "id": "pnyntx09GpYW"
      },
      "source": [
        "### tf.scatter_nd_add/sub/update\n",
        "\n",
        "There are several other `scatter_nd` functions in tensorflow which are superficially similar to ```tf.scatter_nd```. They work using [Variables](https://www.tensorflow.org/guide/Variable) which can have significant scalability/contention issues with larger graphs, especially when executing across distributed machines/hardware."
      ]
    },
    {
      "cell_type": "markdown",
      "metadata": {
        "id": "FOqSOkTAH9No"
      },
      "source": [
        "## Exercise: Mandlebrot set\n",
        "\n",
        "Lets revisit the Mandlebrot set from the previous training course. In that solution, we ran the z=z*z+c calculation for all co-ordinates, even the ones whose magnitude had already gone over 2.\n",
        "\n",
        "For the purpose of this exercise, we will pretend that the complex calculation is very expensive and that we should eliminate the calculation where possible. In actual fact, the calculation is utterly trivial and swamped by the cost of the gather/scatter operations, but the same methods can be used in situations rather more expensive than a complex add and multiply"
      ]
    },
    {
      "cell_type": "code",
      "execution_count": null,
      "metadata": {
        "id": "DZZxF2l0it9-"
      },
      "outputs": [],
      "source": [
        "MAX_ITERATIONS = 64\n",
        "NUM_PIXELS = 512\n",
        "\n",
        "def generate_grid(nX, nY, bottom_left=(-1.0, -1.0), top_right=(1.0, 1.0)):\n",
        "  \"\"\"Generates a complex matrix of shape [nX, nY].\n",
        "  \n",
        "  Generates an evenly spaced grid of complex numbers spanning the rectangle \n",
        "  between the supplied diagonal points. \n",
        "  \n",
        "  Args:\n",
        "    nX: A positive integer. The number of points in the horizontal direction.\n",
        "    nY: A positive integer. The number of points in the vertical direction.\n",
        "    bottom_left: The coordinates of the bottom left corner of the rectangle to\n",
        "      cover.\n",
        "    top_right: The coordinates of the top right corner of the rectangle to\n",
        "      cover.\n",
        "\n",
        "  Returns:\n",
        "    A constant tensor of type complex64 and shape [nX, nY].\n",
        "  \"\"\"\n",
        "  x = tf.linspace(bottom_left[0], top_right[0], nX)\n",
        "  y = tf.linspace(bottom_left[1], top_right[1], nY)\n",
        "  real, imag = tf.meshgrid(x, y)\n",
        "  return tf.cast(tf.complex(real, imag), tf.complex128)\n",
        "\n",
        "c_values = generate_grid(NUM_PIXELS, NUM_PIXELS)\n",
        "initial_Z_values = tf.zeros_like(c_values, dtype=tf.complex128)\n",
        "initial_diverged_after = tf.ones_like(c_values, dtype=tf.int32) * MAX_ITERATIONS\n",
        "\n",
        "# You need to put the various values you want to change inside the loop here\n",
        "loop_vars = (0, initial_Z_values, initial_diverged_after)\n",
        "\n",
        "# this needs to take the same number of arguments as loop_vars contains and\n",
        "# return a tuple of equal size with the next iteration's values\n",
        "def body(iteration_count, Z_values, diverged_after):\n",
        "  # a matrix of bools showing all the co-ordinatesthat haven't diverged yet\n",
        "  not_diverged = tf.equal(diverged_after, MAX_ITERATIONS)\n",
        "  # a list of the indices in not_diverged that are true\n",
        "  not_diverged_indices = tf.where(not_diverged)\n",
        "\n",
        "  # you now need to gather just the Z and c values covered by \n",
        "  # not_diverged_indices, calculate the new Z values, and then scatter the \n",
        "  # values back into a new Z_values matrix to pass to the next iteration.\n",
        "\n",
        "  new_Z_values = # TODO\n",
        "\n",
        "  # And now we're back to the original code\n",
        "  has_diverged = tf.abs(new_Z_values) \u003e 2.0\n",
        "  new_diverged_after = tf.minimum(diverged_after, tf.where(\n",
        "      has_diverged, iteration_count, MAX_ITERATIONS))\n",
        "\n",
        "  return (iteration_count+1, new_Z_values, new_diverged_after)\n",
        "\n",
        "# this just needs to take the same number of arguments as loop_vars contains and\n",
        "# return true (we'll use maximum_iterations to exit the loop)\n",
        "def cond(iteration_count, Z_values, diverged_after):\n",
        "  return True\n",
        "\n",
        "results = tf.while_loop(\n",
        "    loop_vars=loop_vars, \n",
        "    body = body, \n",
        "    cond = cond, \n",
        "    maximum_iterations=MAX_ITERATIONS)\n",
        "\n",
        "\n",
        "## extract the final value of diverged_after from the tuple\n",
        "final_diverged_after = results[-1]\n",
        "plt.matshow(final_diverged_after)\n",
        "pass"
      ]
    },
    {
      "cell_type": "code",
      "execution_count": 26,
      "metadata": {
        "cellView": "code",
        "colab": {
          "height": 275
        },
        "executionInfo": {
          "elapsed": 902,
          "status": "ok",
          "timestamp": 1614183636081,
          "user": {
            "displayName": "",
            "photoUrl": "",
            "userId": ""
          },
          "user_tz": 0
        },
        "id": "JSitXn3PyIIe",
        "outputId": "35739bc5-1ae6-4d65-85bb-7bec029661d7"
      },
      "outputs": [
        {
          "data": {
            "image/png": "[encoded data removed]",
            "text/plain": [
              "\u003cFigure size 400x400 with 1 Axes\u003e"
            ]
          },
          "metadata": {
            "tags": []
          },
          "output_type": "display_data"
        }
      ],
      "source": [
        "#@title Solution: Mandlebrot set (Double-click to reveal)\n",
        "\n",
        "MAX_ITERATIONS = 64\n",
        "NUM_PIXELS = 512\n",
        "\n",
        "def GenerateGrid(nX, nY, bottom_left=(-1.0, -1.0), top_right=(1.0, 1.0)):\n",
        "  \"\"\"Generates a complex matrix of shape [nX, nY].\n",
        "  \n",
        "  Generates an evenly spaced grid of complex numbers spanning the rectangle \n",
        "  between the supplied diagonal points. \n",
        "  \n",
        "  Args:\n",
        "    nX: A positive integer. The number of points in the horizontal direction.\n",
        "    nY: A positive integer. The number of points in the vertical direction.\n",
        "    bottom_left: The coordinates of the bottom left corner of the rectangle to\n",
        "      cover.\n",
        "    top_right: The coordinates of the top right corner of the rectangle to\n",
        "      cover.\n",
        "\n",
        "  Returns:\n",
        "    A constant tensor of type complex64 and shape [nX, nY].\n",
        "  \"\"\"\n",
        "  x = tf.linspace(bottom_left[0], top_right[0], nX)\n",
        "  y = tf.linspace(bottom_left[1], top_right[1], nY)\n",
        "  real, imag = tf.meshgrid(x, y)\n",
        "  return tf.cast(tf.complex(real, imag), tf.complex128)\n",
        "\n",
        "c_values = GenerateGrid(NUM_PIXELS, NUM_PIXELS)\n",
        "initial_Z_values = tf.zeros_like(c_values, dtype=tf.complex128)\n",
        "initial_diverged_after = tf.ones_like(c_values, dtype=tf.int32) * MAX_ITERATIONS\n",
        "\n",
        "# You need to put the various values you want to change inside the loop here\n",
        "loop_vars = (0, initial_Z_values, initial_diverged_after)\n",
        "\n",
        "# this needs to take the same number of arguments as loop_vars contains and\n",
        "# return a tuple of equal size with the next iteration's values\n",
        "def body(iteration_count, Z_values, diverged_after):\n",
        "  # a matrix of bools showing all the co-ordinatesthat haven't diverged yet\n",
        "  not_diverged = tf.equal(diverged_after, MAX_ITERATIONS)\n",
        "  # a list of the indices in not_diverged that are true\n",
        "  not_diverged_indices = tf.where(not_diverged)\n",
        "\n",
        "  # Gather the values for just the undiverged co-ordinates, and generate the \n",
        "  # next iteration's values\n",
        "  not_diverged_c_values_array = tf.gather_nd(c_values, not_diverged_indices)\n",
        "  not_diverged_Z_values_array = tf.gather_nd(Z_values, not_diverged_indices)\n",
        "  new_Z_values_array = (not_diverged_Z_values_array * not_diverged_Z_values_array\n",
        "                        + not_diverged_c_values_array)\n",
        "  \n",
        "  # merge the new values with the already-diverged\n",
        "  new_Z_values_or_zeroes = tf.scatter_nd(\n",
        "      not_diverged_indices, \n",
        "      new_Z_values_array, \n",
        "      tf.shape(Z_values, out_type=tf.dtypes.int64))\n",
        "  new_Z_values = tf.where(not_diverged, new_Z_values_or_zeroes, Z_values)\n",
        "\n",
        "  # And now we're back to the original code\n",
        "  has_diverged = tf.abs(new_Z_values) \u003e 2.0\n",
        "  new_diverged_after = tf.minimum(diverged_after, tf.where(\n",
        "      has_diverged, iteration_count, MAX_ITERATIONS))\n",
        "  return (iteration_count+1, new_Z_values, new_diverged_after)\n",
        "\n",
        "# this just needs to take the same number of arguments as loop_vars contains and\n",
        "# return true (we'll use maximum_iterations to exit the loop)\n",
        "def cond(iteration_count, Z_values, diverged_after):\n",
        "  return True\n",
        "\n",
        "results = tf.while_loop(\n",
        "    loop_vars=loop_vars, \n",
        "    body = body, \n",
        "    cond = cond, \n",
        "    maximum_iterations=MAX_ITERATIONS)\n",
        "\n",
        "## extract the final value of diverged_after from the tuple\n",
        "final_diverged_after = results[-1]\n",
        "plt.matshow(final_diverged_after)\n",
        "plt.show()"
      ]
    },
    {
      "cell_type": "markdown",
      "metadata": {
        "id": "kAlaMKj0gZdX"
      },
      "source": [
        "## SparseTensor\n",
        "\n",
        "[Full documentation](https://www.tensorflow.org/api_docs/python/tf/sparse/SparseTensor])\n",
        "\n",
        "A sparse tensor is created from a list of indices, a list of values and a shape: the same as the arguments to scatter_nd. Any element within the tensor that doesn't have an explicit value will be treated as zero. So a sparse tensor can be viewed as a deferred call to scatter_nd.\n",
        "\n",
        "For large tensors where most of the values are zero, sparse tensors can grant major savings in memory. The [tf.sparse module](https://www.tensorflow.org/api_docs/python/tf/sparse) contains several specialised operations that know how to work with sparse tensor's internals and skipping all the zero values, thus granting major savings in processing speed as well.\n",
        "\n",
        "Similarly sparse tensors can be efficiently divided or multiplied by a tensor or scalar. But attempts to perform inefficient operations on a sparse tensor (i.e. ones likely to set most elements to a non-zero value) are not allowed. You need to convert the sparse tensor to a normal, or \"dense\", tensor with the ```tf.sparse.to_dense``` function."
      ]
    },
    {
      "cell_type": "code",
      "execution_count": 29,
      "metadata": {
        "executionInfo": {
          "elapsed": 2444,
          "status": "ok",
          "timestamp": 1614183783284,
          "user": {
            "displayName": "",
            "photoUrl": "",
            "userId": ""
          },
          "user_tz": 0
        },
        "id": "qDJmkGN2lBhB",
        "outputId": "4ae442d2-2ccb-43b4-8a78-6b7325bf8616"
      },
      "outputs": [
        {
          "name": "stdout",
          "output_type": "stream",
          "text": [
            "sparse =\n",
            "SparseTensor(indices=tf.Tensor(\n",
            "[[0 0 0]\n",
            " [0 1 2]\n",
            " [0 2 1]\n",
            " [1 0 2]\n",
            " [1 1 1]\n",
            " [1 2 0]], shape=(6, 3), dtype=int64), values=tf.Tensor([111 123 132 213 222 231], shape=(6,), dtype=int32), dense_shape=tf.Tensor([2 3 3], shape=(3,), dtype=int64))\n",
            "\n",
            "sparse * dense =\n",
            "SparseTensor(indices=tf.Tensor(\n",
            "[[0 0 0]\n",
            " [0 1 2]\n",
            " [0 2 1]\n",
            " [1 0 2]\n",
            " [1 1 1]\n",
            " [1 2 0]], shape=(6, 3), dtype=int64), values=tf.Tensor([12321 15129 17424 45369 49284 53361], shape=(6,), dtype=int32), dense_shape=tf.Tensor([2 3 3], shape=(3,), dtype=int64))\n",
            "\n",
            "dense * sparse\n",
            "SparseTensor(indices=tf.Tensor(\n",
            "[[0 0 0]\n",
            " [0 1 2]\n",
            " [0 2 1]\n",
            " [1 0 2]\n",
            " [1 1 1]\n",
            " [1 2 0]], shape=(6, 3), dtype=int64), values=tf.Tensor([12321 15129 17424 45369 49284 53361], shape=(6,), dtype=int32), dense_shape=tf.Tensor([2 3 3], shape=(3,), dtype=int64))\n",
            "\n",
            "sparse / dense\n",
            "SparseTensor(indices=tf.Tensor(\n",
            "[[0 0 0]\n",
            " [0 1 2]\n",
            " [0 2 1]\n",
            " [1 0 2]\n",
            " [1 1 1]\n",
            " [1 2 0]], shape=(6, 3), dtype=int64), values=tf.Tensor([1. 1. 1. 1. 1. 1.], shape=(6,), dtype=float64), dense_shape=tf.Tensor([2 3 3], shape=(3,), dtype=int64))\n",
            "\n",
            "to_dense gives\n",
            "tf.Tensor(\n",
            "[[[111   0   0]\n",
            "  [  0   0 123]\n",
            "  [  0 132   0]]\n",
            "\n",
            " [[  0   0 213]\n",
            "  [  0 222   0]\n",
            "  [231   0   0]]], shape=(2, 3, 3), dtype=int32)\n",
            "\n",
            "scatter_nd gives\n",
            "tf.Tensor(\n",
            "[[[111   0   0]\n",
            "  [  0   0 123]\n",
            "  [  0 132   0]]\n",
            "\n",
            " [[  0   0 213]\n",
            "  [  0 222   0]\n",
            "  [231   0   0]]], shape=(2, 3, 3), dtype=int32)\n"
          ]
        }
      ],
      "source": [
        "source = tf.constant([[[111,112,113], [121,122,123], [131,132,133]], \n",
        "                      [[211,212,213], [221,222,223], [231,232,233]]])\n",
        "# create a list of indices where is_divisible_by_three is true\n",
        "indices = tf.where(tf.equal(0, source % 3))\n",
        "# extract a matching list of values\n",
        "values_divisible_by_three = tf.gather_nd(source, indices)\n",
        "\n",
        "sparse = tf.sparse.SparseTensor(\n",
        "    indices, \n",
        "    values_divisible_by_three, \n",
        "    tf.shape(source, out_type=tf.dtypes.int64))\n",
        "print (\"sparse =\")\n",
        "print(sparse)\n",
        "# We can efficiently multiply sparse by a dense tensor\n",
        "print (\"\\nsparse * dense =\")\n",
        "print(sparse * source)\n",
        "# We can efficiently multiply a dense tensor by a sparse\n",
        "print (\"\\ndense * sparse\")\n",
        "print(source * sparse)\n",
        "# We can efficiently divide sparse by a dense tensor\n",
        "print (\"\\nsparse / dense\")\n",
        "print(sparse / source)\n",
        "\n",
        "# But attempts to perform inefficient operations on a sparse tensor (i.e. ones\n",
        "# likely to set most elements to a non-zero value) are not allowed.\n",
        "# You need to convert the sparse tensor into a dense tensor first.\n",
        "try:\n",
        "  not_allowed = sparse + source\n",
        "except ValueError:\n",
        "  pass\n",
        "\n",
        "# Running to_dense is exactly the same as calling scatter_nd:\n",
        "print (\"\\nto_dense gives\")\n",
        "print(tf.sparse.to_dense(sparse))\n",
        "print (\"\\nscatter_nd gives\")\n",
        "print(tf.scatter_nd(sparse.indices, sparse.values, sparse.dense_shape))"
      ]
    },
    {
      "cell_type": "markdown",
      "metadata": {
        "id": "Afi0jfqkI9as"
      },
      "source": [
        "# Functional ops"
      ]
    },
    {
      "cell_type": "markdown",
      "metadata": {
        "id": "sAVQxV71JF59"
      },
      "source": [
        "## tf.foldl and tf.foldr\n",
        "\n",
        "[Full documentation](https://www.tensorflow.org/api_docs/python/tf/foldl)\n",
        "\n",
        "These two functions split a given tensor across its first dimension. The resulting subtensors are then each passed to an op along with an \"accumulator\". \n",
        "For most iterations, the value of the accumulator will be the result of the previous iteration. But for the first iteration, the accumulator will either be passed an initial value passed into the foldl/foldr call, or the first subtensor. The final iteration's result then becomes the overall result of the op.\n",
        "\n",
        "So the rough pseudo code of ```x = tf.foldl(op, [[1,1], [2,2], [3,3]], initializer)``` would be\n",
        "``` python\n",
        "result_iteration1 = op(initializer, [1,1])\n",
        "result_iteration2 = op(result_iteration1, [2,2])\n",
        "result iteration3 = op(result_iteration2, [3,3])\n",
        "x = result_iteration3\n",
        "```\n",
        "Whereas the rough pseudo-code of  ```x = tf.foldl(op, [[1,1], [2,2], [3,3])``` (i.e. no initializer supplied) would be\n",
        "``` python\n",
        "result_iteration1 = op([1,1]], [2,2])\n",
        "result_iteration2 = op(result_iteration1, [3,3])\n",
        "x = result_iteration3\n",
        "```\n",
        "\n",
        "```foldr``` is identical to ```foldl```, except that the order the tensor is iterated through is reversed. So the rough pseudo code of ```x = tf.foldr(op, [[1,1], [2,2], [3,3], initializer)``` would be\n",
        "``` python\n",
        "result_iteration1 = op(initializer, [3,3])\n",
        "result_iteration2 = op(result_iteration1, [2,2])\n",
        "result iteration3 = op(result_iteration2, [1,1])\n",
        "x = result_iteration3\n",
        "```\n",
        "\n",
        "The only complication of this method is that the op is defined by a python callable. Note that the callable is only called once, at execution time, to build the operation. **Your python callable is not called for every row in the input**, nor can it see the individual values. It is the op created by your python code that will be repeatedly called. \n",
        "\n",
        "Note that despite this, use of these methods still eliminates several optimisation opportunities that are present in tensorflow built-in operations. So if you can use something like tf.math.reduce_sum instead of these ops then your code may well run significantly faster."
      ]
    },
    {
      "cell_type": "code",
      "execution_count": null,
      "metadata": {
        "colab": {
          "base_uri": "https://localhost:8080/",
          "height": 168
        },
        "executionInfo": {
          "elapsed": 440,
          "status": "ok",
          "timestamp": 1568711374271,
          "user": {
            "displayName": "Mark Charsley",
            "photoUrl": "https://lh3.googleusercontent.com/a-/AAuE7mAuhiLGs9-CmN1BMtie2tWn3oucS__w2c4gNC6yBg=s64",
            "userId": "18064761308611293318"
          },
          "user_tz": -60
        },
        "id": "40cDr4ogOk8W",
        "outputId": "397c3127-6d7b-4050-93bb-d102df4fe4c1"
      },
      "outputs": [
        {
          "name": "stdout",
          "output_type": "stream",
          "text": [
            "Executing foldl\n",
            "In my_function.\n",
            "foldl result:\n",
            "[ 9 12]\n",
            "\n",
            "Executing foldr\n",
            "In my_function.\n",
            "foldr result:\n",
            "[20 24]\n"
          ]
        }
      ],
      "source": [
        "source = tf.constant([[1,2],[3,4],[5,6]])\n",
        "\n",
        "# element \n",
        "def my_function(previous_iterations_result, element):\n",
        "  print(\"In my_function.\")\n",
        "  # this depends on the previous values, thus highlighting the difference \n",
        "  # between foldl and foldr\n",
        "  return tf.math.maximum(\n",
        "      previous_iterations_result, element) + previous_iterations_result\n",
        "\n",
        "with tf.Session() as sess:\n",
        "  print(\"Executing foldl\")\n",
        "  print(\"foldl result:\\n%s\"%sess.run(\n",
        "      tf.foldl(my_function, source)))\n",
        "\n",
        "  print(\"\\nExecuting foldr\")\n",
        "  print(\"foldr result:\\n%s\"%sess.run(\n",
        "      tf.foldr(my_function, source)))\n"
      ]
    },
    {
      "cell_type": "markdown",
      "metadata": {
        "id": "P9xLy92GtXHx"
      },
      "source": [
        "## tf.map_fn\n",
        "\n",
        "This op is similar to foldl, but the python function only takes a single argument, it lacks the accumulator argument containing the result of the previous iteration. Again the callable is called just once, and is used to generate an tensorflow op. It is this generated op that is executed once per row. And again, be aware that replacing the map_fn call with a built-in op - if possible - can result in significant increases in speed."
      ]
    },
    {
      "cell_type": "code",
      "execution_count": null,
      "metadata": {
        "colab": {
          "height": 69
        },
        "executionInfo": {
          "elapsed": 465,
          "status": "ok",
          "timestamp": 1568886060131,
          "user": {
            "displayName": "",
            "photoUrl": "",
            "userId": ""
          },
          "user_tz": -60
        },
        "id": "x4CPdY9bzhjs",
        "outputId": "d6c582fa-a8e5-49ea-bb7f-bd0d2c67b819"
      },
      "outputs": [
        {
          "name": "stdout",
          "output_type": "stream",
          "text": [
            "In my_function\n",
            "foldr result:\n",
            "[ 3  7 11]\n"
          ]
        }
      ],
      "source": [
        "source = tf.constant([[1,2],[3,4],[5,6]])\n",
        "\n",
        "# element \n",
        "def my_function(element):\n",
        "  print(\"In my_function\")\n",
        "  \n",
        "  return tf.math.reduce_sum(element)\n",
        "\n",
        "\n",
        "with tf.Session() as sess:\n",
        "  print(\"foldr result:\\n%s\"%sess.run(\n",
        "      tf.map_fn(my_function, source)))"
      ]
    }
  ],
  "metadata": {
    "colab": {
      "collapsed_sections": [],
      "last_runtime": {
        "build_target": "",
        "kind": "local"
      },
      "name": "Introduction_to_TensorFlow_Part_3_-_Advanced_Tensor_Manipulation.ipynb",
      "provenance": [
        {
          "file_id": "11mikyGawc9mOOVIXZENnm7TyFyyDyByB",
          "timestamp": 1568382156239
        }
      ],
      "toc_visible": true
    },
    "kernelspec": {
      "display_name": "Python 3",
      "name": "python3"
    }
  },
  "nbformat": 4,
  "nbformat_minor": 0
}
